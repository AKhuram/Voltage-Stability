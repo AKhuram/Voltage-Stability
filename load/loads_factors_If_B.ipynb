{
 "cells": [
  {
   "cell_type": "code",
   "execution_count": 1,
   "metadata": {},
   "outputs": [],
   "source": [
    "%matplotlib inline\n",
    "import numpy as np\n",
    "import pandas as pd\n",
    "import matplotlib.pyplot as plt\n",
    "from itertools import islice\n",
    "plt.style.use('ggplot')"
   ]
  },
  {
   "cell_type": "markdown",
   "metadata": {},
   "source": [
    "READ CLUSTER FILE\n",
    "--------------"
   ]
  },
  {
   "cell_type": "code",
   "execution_count": 2,
   "metadata": {},
   "outputs": [],
   "source": [
    "data = pd.read_csv('clusters.csv')"
   ]
  },
  {
   "cell_type": "code",
   "execution_count": 1,
   "metadata": {},
   "outputs": [],
   "source": [
    "fig = plt.figure(figsize=(20,7))\n",
    "plt.plot(data)\n",
    "plt.title('Load selected through load profile analysis', size = 25)\n",
    "plt.show()"
   ]
  },
  {
   "cell_type": "markdown",
   "metadata": {},
   "source": [
    "GET THE LOADS\n",
    "============="
   ]
  },
  {
   "cell_type": "markdown",
   "metadata": {},
   "source": [
    "These loads are taken from If_B.DAT, stored in a seperate file named as load.csv"
   ]
  },
  {
   "cell_type": "code",
   "execution_count": 5,
   "metadata": {},
   "outputs": [],
   "source": [
    "ft  = pd.read_csv('load.csv')"
   ]
  },
  {
   "cell_type": "code",
   "execution_count": 6,
   "metadata": {},
   "outputs": [],
   "source": [
    "ot1 = ft.copy()"
   ]
  },
  {
   "cell_type": "markdown",
   "metadata": {},
   "source": [
    "SCALE THE DATA\n",
    "============"
   ]
  },
  {
   "cell_type": "code",
   "execution_count": 8,
   "metadata": {},
   "outputs": [],
   "source": [
    "# data2 = data1*100"
   ]
  },
  {
   "cell_type": "code",
   "execution_count": 9,
   "metadata": {},
   "outputs": [],
   "source": [
    "data2 = data*140"
   ]
  },
  {
   "cell_type": "markdown",
   "metadata": {},
   "source": [
    "MULTIPLY THE LOADS WITH SCALED CLUSTERS\n",
    "=============="
   ]
  },
  {
   "cell_type": "markdown",
   "metadata": {},
   "source": [
    "buses 1 to 5\n",
    "--------------"
   ]
  },
  {
   "cell_type": "code",
   "execution_count": 10,
   "metadata": {},
   "outputs": [],
   "source": [
    "p_bus = []\n",
    "for i in range(0,6):\n",
    "    p_load = (data2 *ot1['pload'][i])+ ot1['pload'][i]\n",
    "    p_bus.append(p_load)"
   ]
  },
  {
   "cell_type": "code",
   "execution_count": 11,
   "metadata": {},
   "outputs": [],
   "source": [
    "q_bus = []\n",
    "for i in range(0,6):\n",
    "    q_load = (data2 *ot1['qload'][i])+ ot1['qload'][i]\n",
    "    q_bus.append(q_load)"
   ]
  },
  {
   "cell_type": "markdown",
   "metadata": {},
   "source": [
    "buses 41 to 51\n",
    "------------"
   ]
  },
  {
   "cell_type": "code",
   "execution_count": 12,
   "metadata": {},
   "outputs": [],
   "source": [
    "p41_bus = []\n",
    "for i in range(11,18):\n",
    "    p41_load = (data2 *ot1['pload'][i])+ ot1['pload'][i]\n",
    "    p41_bus.append(p41_load)"
   ]
  },
  {
   "cell_type": "code",
   "execution_count": 13,
   "metadata": {},
   "outputs": [],
   "source": [
    "q41_bus = []\n",
    "for i in range(11,18):\n",
    "    q41_load = (data2 *ot1['qload'][i])+ ot1['qload'][i]\n",
    "    q41_bus.append(q41_load)"
   ]
  },
  {
   "cell_type": "code",
   "execution_count": 15,
   "metadata": {},
   "outputs": [],
   "source": [
    "# We now have all the clusters for buses to be changes\n",
    "# check below"
   ]
  },
  {
   "cell_type": "markdown",
   "metadata": {},
   "source": [
    "MAKE LIST OF BUS LOADS TO BE CHANGED \n",
    "-------"
   ]
  },
  {
   "cell_type": "markdown",
   "metadata": {},
   "source": [
    "buses 1 to 5\n",
    "--------"
   ]
  },
  {
   "cell_type": "code",
   "execution_count": 18,
   "metadata": {},
   "outputs": [],
   "source": [
    "all_bus_clus0 = []\n",
    "for l in range(0,6):\n",
    "    for k in range(0,8):\n",
    "        for i,j in zip(p_bus[l].iloc[:,k],q_bus[l].iloc[:,k]):\n",
    "                m = l+1\n",
    "                name = 'BUS'+ r\" % s\"%m +' 20.'+ r\" % s\"%round(i,4) +r\" %s\"%round(j,4)+ ' 0. 0. ;'\n",
    "                all_bus_clus0.append(name)"
   ]
  },
  {
   "cell_type": "markdown",
   "metadata": {},
   "source": [
    "buses 41 to 43\n",
    "------------"
   ]
  },
  {
   "cell_type": "code",
   "execution_count": 19,
   "metadata": {},
   "outputs": [],
   "source": [
    "all41_bus_clus0 = []\n",
    "for l in range(0,3):\n",
    "    for k in range(0,8):\n",
    "        for i,j in zip(p41_bus[l].iloc[:,k],q41_bus[l].iloc[:,k]):\n",
    "                m = l+41\n",
    "                name = 'BUS'+ r\" % s\"% m +' 20.'+ r\" % s\"%round(i,4) +r\" %s\"%round(j,4)+ ' 0. 0. ;'\n",
    "                all41_bus_clus0.append(name)"
   ]
  },
  {
   "cell_type": "markdown",
   "metadata": {},
   "source": [
    "buses 46 and 47\n",
    "-----------"
   ]
  },
  {
   "cell_type": "code",
   "execution_count": 20,
   "metadata": {},
   "outputs": [],
   "source": [
    "all46_bus_clus0 = []\n",
    "for l in range(3,5):\n",
    "    for k in range(0,8):\n",
    "        for i,j in zip(p41_bus[l].iloc[:,k],q41_bus[l].iloc[:,k]):\n",
    "                m = l+43\n",
    "                name = 'BUS'+ r\" % s\"% m +' 20.'+ r\" % s\"%round(i,4) +r\" %s\"%round(j,4)+ ' 0. 0. ;'\n",
    "                all46_bus_clus0.append(name)"
   ]
  },
  {
   "cell_type": "markdown",
   "metadata": {},
   "source": [
    "bus 51\n",
    "------"
   ]
  },
  {
   "cell_type": "code",
   "execution_count": 21,
   "metadata": {},
   "outputs": [],
   "source": [
    "all51_bus_clus0 = []\n",
    "for l in range(5,6):\n",
    "    for k in range(0,8):\n",
    "        for i,j in zip(p41_bus[l].iloc[:,k],q41_bus[l].iloc[:,k]):\n",
    "                m = 51\n",
    "                name = 'BUS'+ r\" % s\"% m +' 20.'+ r\" % s\"%round(i,4) +r\" %s\"%round(j,4)+ ' 0. 0. ;'\n",
    "                all51_bus_clus0.append(name)"
   ]
  },
  {
   "cell_type": "markdown",
   "metadata": {},
   "source": [
    "SEPERATE CLUSTERS FOR EACH BUS FROM THE ABOVE LIST:\n",
    "    ----------------------------"
   ]
  },
  {
   "cell_type": "markdown",
   "metadata": {},
   "source": [
    "for each bus we have 92 * 8 = 736 data pointa<br>\n",
    "we will now define data points for bus 1,2,3,4,5, 41,42,43,46,47 and 51<br>\n",
    "for example line 0 to736 belongs to bus-1 an dline 736 to 1471 belongs to bus-2\n"
   ]
  },
  {
   "cell_type": "code",
   "execution_count": 22,
   "metadata": {},
   "outputs": [],
   "source": [
    "bus1 = all_bus_clus0[0:735]\n",
    "bus2 = all_bus_clus0[736:1471]\n",
    "bus3 = all_bus_clus0[1472:2207]\n",
    "bus4 = all_bus_clus0[2208:2943]\n",
    "bus5 = all_bus_clus0[2944:3680]\n",
    "bus41 = all41_bus_clus0[0:735]\n",
    "bus42 = all41_bus_clus0[736:1471]\n",
    "bus43 = all41_bus_clus0[1472:2207]\n",
    "bus46 = all46_bus_clus0[0:735]\n",
    "bus47 = all46_bus_clus0[736:1471]\n",
    "bus51 = all51_bus_clus0[0:735]"
   ]
  },
  {
   "cell_type": "markdown",
   "metadata": {},
   "source": [
    "REPLACE THE ABOVE LOAD POINTS IN If_B\n",
    "----------------------"
   ]
  },
  {
   "cell_type": "code",
   "execution_count": 24,
   "metadata": {},
   "outputs": [],
   "source": [
    "with open('lf_B.DAT', 'r') as fobj:\n",
    "    load = fobj.read()"
   ]
  },
  {
   "cell_type": "code",
   "execution_count": 25,
   "metadata": {},
   "outputs": [],
   "source": [
    "# REPEAT FOR ALL CLUSTERS"
   ]
  },
  {
   "cell_type": "code",
   "execution_count": 26,
   "metadata": {},
   "outputs": [],
   "source": [
    "gh = []\n",
    "lh = []\n",
    "jh = []\n",
    "kh = []\n",
    "mh = []\n",
    "nh = []\n",
    "oh = []\n",
    "ph = []\n",
    "qh = []\n",
    "rh = []\n",
    "sh = []\n",
    "\n",
    "for i in range(0,730):\n",
    "    file_d = load.replace('BUS 1 20. 600.0000 148.2000 0. 0. ;',bus1[i])\n",
    "    gh.append(file_d)\n",
    "    file_d1 = gh[i].replace('BUS 2 20. 330.0000 71.00000 0. 0. ;',bus2[i])\n",
    "    lh.append(file_d1)\n",
    "    file_d2 = lh[i].replace('BUS 3 20. 260.0000 83.80000 0. 0. ;',bus3[i])\n",
    "    jh.append(file_d2)\n",
    "    file_d3 = jh[i].replace('BUS 4 20. 839.9999 252.0000 0. 0. ;',bus4[i])\n",
    "    kh.append(file_d3)\n",
    "    file_d4 = kh[i].replace('BUS 5 20. 720.0000 190.4000 0. 0. ;',bus5[i])\n",
    "    mh.append(file_d4)\n",
    "    file_d5 = mh[i].replace('BUS 41 20. 540.0000 131.4000 0. 0. ;',bus41[i])\n",
    "    nh.append(file_d5)\n",
    "    file_d6 = nh[i].replace('BUS 42 20. 400.0000 127.4000 0. 0. ;',bus42[i])\n",
    "    oh.append(file_d6)\n",
    "    file_d7 = oh[i].replace('BUS 43 20. 900.0000 254.6000 0. 0. ;',bus43[i])\n",
    "    ph.append(file_d7)\n",
    "    file_d8 = ph[i].replace('BUS 46 20. 700.0000 211.8000 0. 0. ;',bus46[i])\n",
    "    qh.append(file_d8)\n",
    "    file_d9 = qh[i].replace('BUS 47 20. 100.0000 44.00000 0. 0. ;',bus47[i])\n",
    "    rh.append(file_d9)\n",
    "    file_d10 = rh[i].replace('BUS 51 20. 800.0000 258.2000 0. 0. ;',bus51[i])\n",
    "    sh.append(file_d10)\n"
   ]
  },
  {
   "cell_type": "markdown",
   "metadata": {},
   "source": [
    "CHANGE DIRECTORY TO WRITE TEXT FILES\n",
    "---------"
   ]
  },
  {
   "cell_type": "markdown",
   "metadata": {},
   "source": [
    "Choose a folder where you want to write load files to be used as input to RAMSES.<br>\n",
    "This folder should have Artere downloaded.<br>\n",
    "This folder should also have one 'input.txt' file in it."
   ]
  },
  {
   "cell_type": "code",
   "execution_count": 28,
   "metadata": {},
   "outputs": [],
   "source": [
    "import os\n",
    "os.chdir('If_B_load_flow')"
   ]
  },
  {
   "cell_type": "markdown",
   "metadata": {},
   "source": [
    "WRITE FILES TO BE SOLVED IN ARTERE\n",
    "========="
   ]
  },
  {
   "cell_type": "markdown",
   "metadata": {},
   "source": [
    "These files are substituted version of If_B"
   ]
  },
  {
   "cell_type": "code",
   "execution_count": 29,
   "metadata": {},
   "outputs": [],
   "source": [
    "for j in range(0,len(sh)):\n",
    "    f = open('file'+r\"%s\"% j +'.DAT','w')\n",
    "    f.write(sh[j])\n",
    "    f.close()"
   ]
  },
  {
   "cell_type": "markdown",
   "metadata": {},
   "source": [
    "MAKE A COMMAND LINE FOR ARTERE\n",
    "------------"
   ]
  },
  {
   "cell_type": "markdown",
   "metadata": {},
   "source": [
    "Read input file"
   ]
  },
  {
   "cell_type": "code",
   "execution_count": 30,
   "metadata": {},
   "outputs": [],
   "source": [
    "with open('input.txt', 'r') as fobj:\n",
    "    load = fobj.read()"
   ]
  },
  {
   "cell_type": "markdown",
   "metadata": {},
   "source": [
    "MAKE CHANGES IN 'input.txt' <br>\n",
    "---------------------------------------------\n",
    "Below is the  command  to change input.txt. <br>\n",
    "Several command files would be created for ARTERE"
   ]
  },
  {
   "cell_type": "code",
   "execution_count": 31,
   "metadata": {},
   "outputs": [],
   "source": [
    "clus_in = []\n",
    "for l in range(0,len(sh)):\n",
    "                name = 'file'+ r\"%s\"% l +'.DAT'\n",
    "                clus_in.append(name)"
   ]
  },
  {
   "cell_type": "code",
   "execution_count": 32,
   "metadata": {},
   "outputs": [],
   "source": [
    "clus_out = []\n",
    "for l in range(0,len(sh)):\n",
    "                name = 'out'+ r\"%s\"% l +'.DAT'\n",
    "                clus_out.append(name)"
   ]
  },
  {
   "cell_type": "markdown",
   "metadata": {},
   "source": [
    "Select the range of files to be written in command line"
   ]
  },
  {
   "cell_type": "code",
   "execution_count": 33,
   "metadata": {},
   "outputs": [],
   "source": [
    "gh = []\n",
    "lh = []\n",
    "\n",
    "for i in range(0,len(sh)):\n",
    "    file_d = load.replace('file201.dat',clus_in[i])\n",
    "    gh.append(file_d)\n",
    "    file_d1 = gh[i].replace('out201.dat',clus_out[i])\n",
    "    lh.append(file_d1)"
   ]
  },
  {
   "cell_type": "markdown",
   "metadata": {},
   "source": [
    "Write in command file for ARTERE"
   ]
  },
  {
   "cell_type": "code",
   "execution_count": 34,
   "metadata": {},
   "outputs": [],
   "source": [
    "# for j in range(0,len(lh)):\n",
    "for j in range(0,len(lh)):\n",
    "    f = open('input'+r\"%s\"% j +'.txt','w')\n",
    "    f.write(lh[j])\n",
    "    f.close()"
   ]
  },
  {
   "cell_type": "markdown",
   "metadata": {},
   "source": [
    "SOLVE IN ARTERE WITH COMMAND LINE\n",
    "====="
   ]
  },
  {
   "cell_type": "code",
   "execution_count": 35,
   "metadata": {},
   "outputs": [],
   "source": [
    "lj = []\n",
    "for i in range(1,len(sh)):\n",
    "    name = 'artere_c.exe < input'+r\"%s\"% i +'.txt'\n",
    "    lj.append(name)"
   ]
  },
  {
   "cell_type": "code",
   "execution_count": 2,
   "metadata": {},
   "outputs": [],
   "source": [
    "for i in range (1,725):\n",
    "    p = os.popen( lj[i])\n",
    "    print(p.read())"
   ]
  },
  {
   "cell_type": "markdown",
   "metadata": {},
   "source": [
    "TAKE THE OUTPUT FILES OBTAINED FROM ARTERE AND REWRITE FOR RAMSES\n",
    "-----------------------------------------"
   ]
  },
  {
   "cell_type": "code",
   "execution_count": 37,
   "metadata": {},
   "outputs": [],
   "source": [
    "\n",
    "text = []\n",
    "for i in range(2,725):\n",
    "    with open('out'+r\"%s\"% i +'.DAT', 'r') as data_file: \n",
    "        txt ='\\n'.join(islice(data_file, 181,284))\n",
    "        text.append(txt)\n"
   ]
  },
  {
   "cell_type": "markdown",
   "metadata": {},
   "source": [
    "These files are substitutes for:   volt_rat_B_plus_ <br>\n",
    "Choose the folder to save these files for use in RAMSES"
   ]
  },
  {
   "cell_type": "code",
   "execution_count": 39,
   "metadata": {},
   "outputs": [],
   "source": [
    "# for j in range(1,723):\n",
    "#     f = open('variant_IF_B/If_B'+r\"%s\"% j+'.DAT','w')\n",
    "#     f.write(text[j])\n",
    "#     f.close()"
   ]
  },
  {
   "cell_type": "code",
   "execution_count": 40,
   "metadata": {},
   "outputs": [],
   "source": [
    "for j in range(1,5):                                        #Here only first five files are being written\n",
    "    f = open('variant_IF_B/If_B'+r\"%s\"% j+'.DAT','w')\n",
    "    f.write(text[j])\n",
    "    f.close()"
   ]
  }
 ],
 "metadata": {
  "kernelspec": {
   "display_name": "Python 3",
   "language": "python",
   "name": "python3"
  },
  "language_info": {
   "codemirror_mode": {
    "name": "ipython",
    "version": 3
   },
   "file_extension": ".py",
   "mimetype": "text/x-python",
   "name": "python",
   "nbconvert_exporter": "python",
   "pygments_lexer": "ipython3",
   "version": "3.8.1"
  }
 },
 "nbformat": 4,
 "nbformat_minor": 2
}
